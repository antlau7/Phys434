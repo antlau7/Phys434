{
 "cells": [
  {
   "cell_type": "code",
   "execution_count": 72,
   "id": "d327c92d-2809-45f5-9d0d-9ddb5f9be53f",
   "metadata": {},
   "outputs": [
    {
     "data": {
      "image/png": "[encoded data removed]",
      "text/plain": [
       "<Figure size 432x288 with 1 Axes>"
      ]
     },
     "metadata": {
      "needs_background": "light"
     },
     "output_type": "display_data"
    },
    {
     "name": "stdout",
     "output_type": "stream",
     "text": [
      "0.985997794426055\n",
      "3.0000000000000004\n"
     ]
    }
   ],
   "source": [
    "import numpy as np\n",
    "import matplotlib\n",
    "import matplotlib.pyplot as plt\n",
    "import scipy\n",
    "from scipy import stats\n",
    "\n",
    "s=0.5\n",
    "d = stats.lognorm.rvs(s, loc = 3.0, scale = .01, size = 100000)\n",
    "m = np.mean(d)\n",
    "\n",
    "fig, ax = plt.subplots(1,1)\n",
    "x = np.linspace(2.95,3.05,1000)\n",
    "ax.hist(d,50, density=True)\n",
    "ax.plot(x, stats.lognorm.pdf(x, s, loc=3.0, scale=0.01))\n",
    "plt.show()\n",
    "\n",
    "lognorm_cdf = stats.lognorm.cdf(3, s)\n",
    "print(lognorm_cdf)\n",
    "print(stats.lognorm.ppf(lognorm_cdf, s))\n",
    "\n"
   ]
  },
  {
   "cell_type": "code",
   "execution_count": null,
   "id": "3af88836-4d3c-4888-bdf7-c4e24f851d20",
   "metadata": {},
   "outputs": [],
   "source": []
  },
  {
   "cell_type": "code",
   "execution_count": null,
   "id": "3eec4769-ddbc-4aeb-acb2-846fd4e71078",
   "metadata": {},
   "outputs": [],
   "source": []
  }
 ],
 "metadata": {
  "kernelspec": {
   "display_name": "Python 3",
   "language": "python",
   "name": "python3"
  },
  "language_info": {
   "codemirror_mode": {
    "name": "ipython",
    "version": 3
   },
   "file_extension": ".py",
   "mimetype": "text/x-python",
   "name": "python",
   "nbconvert_exporter": "python",
   "pygments_lexer": "ipython3",
   "version": "3.8.8"
  }
 },
 "nbformat": 4,
 "nbformat_minor": 5
}
