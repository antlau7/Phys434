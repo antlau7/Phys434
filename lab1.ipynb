{
 "cells": [
  {
   "cell_type": "markdown",
   "id": "bacabf93-2ae6-4ea2-a95c-c29c1d0e4791",
   "metadata": {},
   "source": [
    "A normal distribution tends to look like a bell curve. When we use cdf on a value of sigma, we are taking the integral of the graph from the left hand side of where sigma is located.\n",
    "Sigma is the number of standard deviations from the mean. The function cdf will give us the probability of getting a number lower than the sigma we have chosen and ppf will return the sigma based on the probability. \n"
   ]
  },
  {
   "cell_type": "code",
   "execution_count": 16,
   "id": "28004455-bf0d-4e6d-9f19-f43c3f796aca",
   "metadata": {},
   "outputs": [
    {
     "name": "stdout",
     "output_type": "stream",
     "text": [
      "0.8413447460685429\n",
      "1.0\n",
      "0.9772498680518208\n",
      "2.0000000000000004\n",
      "0.9999997133484281\n",
      "4.999999999970176\n",
      "0.15865525393145707\n",
      "-1.0\n"
     ]
    }
   ],
   "source": [
    "import numpy as np\n",
    "import matplotlib\n",
    "import matplotlib.pyplot as plt\n",
    "import scipy\n",
    "from scipy import stats\n",
    "from scipy import integrate\n",
    "\n",
    "norm_cdf = stats.norm.cdf(1)\n",
    "print(norm_cdf)\n",
    "print(stats.norm.ppf(norm_cdf))\n",
    "\n",
    "norm_cdf = stats.norm.cdf(2)\n",
    "print(norm_cdf)\n",
    "print(stats.norm.ppf(norm_cdf))\n",
    "\n",
    "norm_cdf = stats.norm.cdf(5)\n",
    "print(norm_cdf)\n",
    "print(stats.norm.ppf(norm_cdf))\n",
    "\n",
    "norm_cdf = stats.norm.cdf(-1)\n",
    "print(norm_cdf)\n",
    "print(stats.norm.ppf(norm_cdf))\n"
   ]
  },
  {
   "cell_type": "markdown",
   "id": "3d40eacc-48d7-4e4a-985e-0f25b8ceb2c3",
   "metadata": {},
   "source": [
    "When a negative sigma appears, that means we are on the left of the mean so that would explain why there is a lower probability for negative sigmas compared to their positive counterparts.\n",
    "\n",
    "What is the probability that the background has produced a data point as or more signal-like than \n",
    "the reading I have as if my distribution were log-normal and I was 3 sigma away?\n",
    "The CDF for log-normal is given by\n",
    "1/2erfc(-(ln(x)-mu)/sigma*sqrt(2))\n"
   ]
  },
  {
   "cell_type": "code",
   "execution_count": 15,
   "id": "74ad5139-19e7-4061-b299-4d6db28ab143",
   "metadata": {},
   "outputs": [
    {
     "data": {
      "image/png": "[encoded data removed]",
      "text/plain": [
       "<Figure size 432x288 with 1 Axes>"
      ]
     },
     "metadata": {
      "needs_background": "light"
     },
     "output_type": "display_data"
    },
    {
     "name": "stdout",
     "output_type": "stream",
     "text": [
      "0.5\n",
      "1.0\n",
      "0.9171714809983016\n",
      "2.0000000000000004\n",
      "0.9993565289870862\n",
      "5.000000000000037\n"
     ]
    }
   ],
   "source": [
    "s=0.5\n",
    "d = stats.lognorm.rvs(s, loc = 3.0, scale = .01, size = 100000)\n",
    "\n",
    "fig, ax = plt.subplots(1,1)\n",
    "x = np.linspace(2.95,3.05,1000)\n",
    "ax.hist(d,50, density=True)\n",
    "f = stats.lognorm.pdf(x, s, loc=3.0, scale=0.01)\n",
    "ax.plot(x, f)\n",
    "plt.show()\n",
    "\n",
    "lognorm_cdf = stats.lognorm.cdf(1, s)\n",
    "print(lognorm_cdf)\n",
    "print(stats.lognorm.ppf(lognorm_cdf, s))\n",
    "\n",
    "lognorm_cdf = stats.lognorm.cdf(2, s)\n",
    "print(lognorm_cdf)\n",
    "print(stats.lognorm.ppf(lognorm_cdf, s))\n",
    "\n",
    "lognorm_cdf = stats.lognorm.cdf(5, s)\n",
    "print(lognorm_cdf)\n",
    "print(stats.lognorm.ppf(lognorm_cdf, s))\n"
   ]
  },
  {
   "cell_type": "markdown",
   "id": "569a83d9-01d3-41ef-a64d-71c4774bc384",
   "metadata": {},
   "source": [
    "The probability seems to jump significantly from 1 to 2, much quicker compared to the normal distribution."
   ]
  },
  {
   "cell_type": "markdown",
   "id": "7d0f6e52-cff9-48c7-9de6-94c7509b206f",
   "metadata": {},
   "source": []
  }
 ],
 "metadata": {
  "kernelspec": {
   "display_name": "Python 3",
   "language": "python",
   "name": "python3"
  },
  "language_info": {
   "codemirror_mode": {
    "name": "ipython",
    "version": 3
   },
   "file_extension": ".py",
   "mimetype": "text/x-python",
   "name": "python",
   "nbconvert_exporter": "python",
   "pygments_lexer": "ipython3",
   "version": "3.8.8"
  }
 },
 "nbformat": 4,
 "nbformat_minor": 5
}
