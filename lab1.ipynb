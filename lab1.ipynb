{
 "cells": [
  {
   "cell_type": "code",
   "execution_count": 7,
   "id": "fc8a5fa9-c1be-4d21-ab88-9dee73e62459",
   "metadata": {},
   "outputs": [
    {
     "name": "stdout",
     "output_type": "stream",
     "text": [
      "0.9986501019683699\n",
      "2.9999999999999982\n"
     ]
    },
    {
     "data": {
      "image/png": "[encoded data removed]",
      "text/plain": [
       "<Figure size 432x288 with 1 Axes>"
      ]
     },
     "metadata": {
      "needs_background": "light"
     },
     "output_type": "display_data"
    },
    {
     "name": "stdout",
     "output_type": "stream",
     "text": [
      "0.985997794426055\n",
      "3.0000000000000004\n"
     ]
    }
   ],
   "source": [
    "import numpy as np\n",
    "import matplotlib\n",
    "import matplotlib.pyplot as plt\n",
    "import scipy\n",
    "from scipy import stats\n",
    "from scipy import integrate\n",
    "\n",
    "norm_cdf = stats.norm.cdf(3)\n",
    "print(norm_cdf)\n",
    "print(stats.norm.ppf(norm_cdf))\n",
    "\n",
    "s=0.5\n",
    "d = stats.lognorm.rvs(s, loc = 3.0, scale = .01, size = 100000)\n",
    "m = np.mean(d)\n",
    "\n",
    "fig, ax = plt.subplots(1,1)\n",
    "x = np.linspace(2.95,3.05,1000)\n",
    "ax.hist(d,50, density=True)\n",
    "f = stats.lognorm.pdf(x, s, loc=3.0, scale=0.01)\n",
    "ax.plot(x, f)\n",
    "plt.show()\n",
    "\n",
    "lognorm_cdf = stats.lognorm.cdf(3, s)\n",
    "print(lognorm_cdf)\n",
    "print(stats.lognorm.ppf(lognorm_cdf, s))\n",
    "\n"
   ]
  },
  {
   "cell_type": "code",
   "execution_count": null,
   "id": "fe8350a6-ab68-4e7e-850c-eab51e7bafd0",
   "metadata": {},
   "outputs": [],
   "source": []
  }
 ],
 "metadata": {
  "kernelspec": {
   "display_name": "Python 3",
   "language": "python",
   "name": "python3"
  },
  "language_info": {
   "codemirror_mode": {
    "name": "ipython",
    "version": 3
   },
   "file_extension": ".py",
   "mimetype": "text/x-python",
   "name": "python",
   "nbconvert_exporter": "python",
   "pygments_lexer": "ipython3",
   "version": "3.8.8"
  }
 },
 "nbformat": 4,
 "nbformat_minor": 5
}
