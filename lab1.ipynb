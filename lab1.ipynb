{
 "cells": [
  {
   "cell_type": "markdown",
   "id": "70043dab-c3e3-4e0b-aac4-92d5f4520da7",
   "metadata": {},
   "source": [
    "A normal distribution tends to look like a bell curve. When we use cdf on a value of sigma, we are taking the integral of the graph from the left hand side of where sigma is located.\n",
    "Sigma is the number of standard deviations from the mean. The function cdf will give us the probability of getting a number lower than the sigma we have chosen and ppf will return the sigma based on the probability. "
   ]
  },
  {
   "cell_type": "code",
   "execution_count": 1,
   "id": "d5aefebd-3087-40f1-b25b-5de08a4541c8",
   "metadata": {
    "tags": []
   },
   "outputs": [
    {
     "name": "stdout",
     "output_type": "stream",
     "text": [
      "0.8413447460685429\n",
      "1.0\n",
      "0.9772498680518208\n",
      "2.0000000000000004\n",
      "0.9999997133484281\n",
      "4.999999999970176\n",
      "0.15865525393145707\n",
      "-1.0\n"
     ]
    }
   ],
   "source": [
    "import numpy as np\n",
    "import matplotlib\n",
    "import matplotlib.pyplot as plt\n",
    "import scipy\n",
    "from scipy import stats\n",
    "from scipy.stats import binom\n",
    "\n",
    "norm_cdf = stats.norm.cdf(1)\n",
    "print(norm_cdf)\n",
    "print(stats.norm.ppf(norm_cdf))\n",
    "\n",
    "norm_cdf = stats.norm.cdf(2)\n",
    "print(norm_cdf)\n",
    "print(stats.norm.ppf(norm_cdf))\n",
    "\n",
    "norm_cdf = stats.norm.cdf(5)\n",
    "print(norm_cdf)\n",
    "print(stats.norm.ppf(norm_cdf))\n",
    "\n",
    "norm_cdf = stats.norm.cdf(-1)\n",
    "print(norm_cdf)\n",
    "print(stats.norm.ppf(norm_cdf))"
   ]
  },
  {
   "cell_type": "markdown",
   "id": "aedf3a28-5b22-488d-a036-0d8143ce7392",
   "metadata": {},
   "source": [
    "When a negative sigma appears, that means we are on the left of the mean so that would explain why there is a lower probability \n",
    "\n",
    "What is the probability that the background has produced a data point as or more signal-like than \n",
    "the reading I have as if my distribution were Gaussian and I was 3 sigma away?\n",
    "The CDF for log-normal is given by\n",
    "1/2erfc(-(ln(x)-mu)/sigma*sqrt(2))"
   ]
  },
  {
   "cell_type": "code",
   "execution_count": 2,
   "id": "37791585-9c07-44e8-ac7b-17826faefc3d",
   "metadata": {},
   "outputs": [
    {
     "data": {
      "image/png": "[encoded data removed]",
      "text/plain": [
       "<Figure size 432x288 with 1 Axes>"
      ]
     },
     "metadata": {
      "needs_background": "light"
     },
     "output_type": "display_data"
    },
    {
     "name": "stdout",
     "output_type": "stream",
     "text": [
      "0.5\n",
      "1.0\n",
      "0.9171714809983016\n",
      "2.0000000000000004\n",
      "0.9993565289870862\n",
      "5.000000000000037\n"
     ]
    }
   ],
   "source": [
    "s=0.5\n",
    "d = stats.lognorm.rvs(s, loc = 3.0, scale = .01, size = 100000)\n",
    "\n",
    "fig, ax = plt.subplots(1,1)\n",
    "x = np.linspace(2.95,3.05,1000)\n",
    "f = stats.lognorm.pdf(x, s, loc=3.0, scale=0.01)\n",
    "ax.plot(x, f)\n",
    "plt.show()\n",
    "\n",
    "lognorm_cdf = stats.lognorm.cdf(1, s)\n",
    "print(lognorm_cdf)\n",
    "print(stats.lognorm.ppf(lognorm_cdf, s))\n",
    "\n",
    "lognorm_cdf = stats.lognorm.cdf(2, s)\n",
    "print(lognorm_cdf)\n",
    "print(stats.lognorm.ppf(lognorm_cdf, s))\n",
    "\n",
    "lognorm_cdf = stats.lognorm.cdf(5, s)\n",
    "print(lognorm_cdf)\n",
    "print(stats.lognorm.ppf(lognorm_cdf, s))"
   ]
  },
  {
   "cell_type": "markdown",
   "id": "0da0e617-fb39-446b-8e14-f6c05b988788",
   "metadata": {},
   "source": [
    "The probability seems to jump significantly from 1 to 2, much quicker compared to the normal distribution.\n",
    "A binomial distribution is observed after conducting experiments where the outcome may be a success or failure. \n",
    "It is the number of successes for a given number of trials."
   ]
  },
  {
   "cell_type": "code",
   "execution_count": 3,
   "id": "16999800-8a34-4769-80d1-1047b7706486",
   "metadata": {},
   "outputs": [
    {
     "data": {
      "image/png": "[encoded data removed]",
      "text/plain": [
       "<Figure size 432x288 with 1 Axes>"
      ]
     },
     "metadata": {
      "needs_background": "light"
     },
     "output_type": "display_data"
    },
    {
     "data": {
      "image/png": "[encoded data removed]",
      "text/plain": [
       "<Figure size 432x288 with 1 Axes>"
      ]
     },
     "metadata": {
      "needs_background": "light"
     },
     "output_type": "display_data"
    }
   ],
   "source": [
    "n = 5\n",
    "p = 0.4\n",
    "r = binom.rvs(n, p, size = 1000)\n",
    "fig, ax = plt.subplots(1, 1)\n",
    "ax.hist(r, 50, density = False)\n",
    "plt.tick_params(labelsize = 24)\n",
    "plt.xlim([0,5])\n",
    "plt.show()\n",
    "n = 10\n",
    "p = 0.5\n",
    "r = binom.rvs(n, p, size = 1000)\n",
    "fig, ax = plt.subplots(1, 1)\n",
    "ax.hist(r, 50, density = False)\n",
    "plt.tick_params(labelsize = 20)\n",
    "plt.xlim([0,10])\n",
    "plt.show()"
   ]
  },
  {
   "cell_type": "markdown",
   "id": "58479a00-23aa-4816-8cc0-340500c8467b",
   "metadata": {},
   "source": [
    "Our question could be something like what is the probability of flipping a coin and gettings tails for 8 trials or less?"
   ]
  },
  {
   "cell_type": "code",
   "execution_count": 4,
   "id": "0b3ff74a-e1c1-4cf3-b6ee-d7385576541a",
   "metadata": {},
   "outputs": [
    {
     "name": "stdout",
     "output_type": "stream",
     "text": [
      "0.9892578125\n",
      "8.0\n"
     ]
    }
   ],
   "source": [
    "binomial_cdf = binom.cdf(8.2, n, p)\n",
    "print(binomial_cdf)\n",
    "print(binom.ppf(binomial_cdf, n, p))"
   ]
  },
  {
   "cell_type": "markdown",
   "id": "8ef5983f-4bd3-420f-ace0-bc8218451e05",
   "metadata": {},
   "source": [
    "Since the distribution is discrete, this means that the probabilites and sigmas must also be discrete. This makes sense since you can't, for example, flip half of a coin. These types of distributions are useful when we are counting the number of events or objects. The only parameters of a binomial distribution that are continuous are the mean and the probability of a success or failure. While the probability of an event occuring may be continuous, the probability of the event happening after a number of trials will be discrete. "
   ]
  }
 ],
 "metadata": {
  "kernelspec": {
   "display_name": "Python 3",
   "language": "python",
   "name": "python3"
  },
  "language_info": {
   "codemirror_mode": {
    "name": "ipython",
    "version": 3
   },
   "file_extension": ".py",
   "mimetype": "text/x-python",
   "name": "python",
   "nbconvert_exporter": "python",
   "pygments_lexer": "ipython3",
   "version": "3.8.8"
  }
 },
 "nbformat": 4,
 "nbformat_minor": 5
}
