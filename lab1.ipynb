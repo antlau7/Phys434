{
 "cells": [
  {
   "cell_type": "code",
   "execution_count": null,
   "id": "fc8a5fa9-c1be-4d21-ab88-9dee73e62459",
   "metadata": {},
   "outputs": [],
   "source": [
    "import numpy as np\n",
    "import matplotlib\n",
    "import matplotlib.pyplot as plt\n",
    "import scipy\n",
    "from scipy import stats\n",
    "\n",
    "s=0.5\n",
    "d = stats.lognorm.rvs(s, loc = 3.0, scale = .01, size = 100000)\n",
    "m = np.mean(d)\n",
    "\n",
    "fig, ax = plt.subplots(1,1)\n",
    "x = np.linspace(2.95,3.05,1000)\n",
    "ax.hist(d,50, density=True)\n",
    "ax.plot(x, stats.lognorm.pdf(x, s, loc=3.0, scale=0.01))\n",
    "plt.show()\n",
    "\n",
    "lognorm_cdf = stats.lognorm.cdf(3, s)\n",
    "print(lognorm_cdf)\n",
    "print(stats.lognorm.ppf(lognorm_cdf, s))\n",
    "\n"
   ]
  }
 ],
 "metadata": {
  "kernelspec": {
   "display_name": "Python 3",
   "language": "python",
   "name": "python3"
  },
  "language_info": {
   "codemirror_mode": {
    "name": "ipython",
    "version": 3
   },
   "file_extension": ".py",
   "mimetype": "text/x-python",
   "name": "python",
   "nbconvert_exporter": "python",
   "pygments_lexer": "ipython3",
   "version": "3.8.8"
  }
 },
 "nbformat": 4,
 "nbformat_minor": 5
}
